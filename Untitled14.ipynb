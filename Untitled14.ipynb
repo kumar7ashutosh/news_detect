{
  "cells": [
    {
      "cell_type": "code",
      "execution_count": null,
      "metadata": {
        "id": "a-HD7E7iQXyg"
      },
      "outputs": [],
      "source": [
        "import numpy as np,pandas as pd,seaborn as sns\n",
        "from sklearn.model_selection import train_test_split\n",
        "from sklearn import svm\n",
        "from sklearn.metrics import accuracy_score,classification_report\n",
        "import matplotlib.pyplot as plt\n",
        "import re,string"
      ]
    },
    {
      "cell_type": "code",
      "execution_count": null,
      "metadata": {},
      "outputs": [],
      "source": [
        "!pip install joblib"
      ]
    },
    {
      "cell_type": "code",
      "execution_count": null,
      "metadata": {},
      "outputs": [],
      "source": [
        "import joblib"
      ]
    },
    {
      "cell_type": "code",
      "execution_count": null,
      "metadata": {
        "id": "3OBmzFKeV4kx"
      },
      "outputs": [],
      "source": [
        "data_fake=pd.read_csv('Fake.csv')\n",
        "data_True=pd.read_csv('True.csv')"
      ]
    },
    {
      "cell_type": "code",
      "execution_count": null,
      "metadata": {
        "colab": {
          "base_uri": "https://localhost:8080/",
          "height": 327
        },
        "id": "arR98d97XsZb",
        "outputId": "5a0ee388-2af8-4bb5-ad88-ab08c4fa8a0c"
      },
      "outputs": [],
      "source": [
        "data_fake.head()\n",
        "data_True.head()"
      ]
    },
    {
      "cell_type": "code",
      "execution_count": null,
      "metadata": {
        "id": "S4Gz2nnwZFXo"
      },
      "outputs": [],
      "source": [
        "data_True['class']=1\n",
        "data_fake['class']=0"
      ]
    },
    {
      "cell_type": "code",
      "execution_count": null,
      "metadata": {
        "colab": {
          "base_uri": "https://localhost:8080/",
          "height": 379
        },
        "id": "_NnHrdLBZXaI",
        "outputId": "5b47ab0d-e3d5-4757-a5af-63144380c2dc"
      },
      "outputs": [],
      "source": [
        "data_True.head()"
      ]
    },
    {
      "cell_type": "code",
      "execution_count": null,
      "metadata": {
        "colab": {
          "base_uri": "https://localhost:8080/"
        },
        "id": "ubzGEe9QaQpk",
        "outputId": "8550e024-e6df-4870-95b4-988ae80d3dda"
      },
      "outputs": [],
      "source": [
        "data_fake.shape,data_True.shape"
      ]
    },
    {
      "cell_type": "code",
      "execution_count": null,
      "metadata": {
        "id": "Ck00X6DAYZhk"
      },
      "outputs": [],
      "source": [
        "data_fake_manual_testing=data_fake.tail(10)\n",
        "for i in range(23480,23470,-1):\n",
        "  data_fake.drop([i],axis=0,inplace=True)\n",
        "\n",
        "data_True_manual_testing=data_True.tail(10)\n",
        "for i in range(21416,21406,-1):\n",
        "  data_True.drop([i],axis=0,inplace=True)"
      ]
    },
    {
      "cell_type": "code",
      "execution_count": null,
      "metadata": {
        "colab": {
          "base_uri": "https://localhost:8080/"
        },
        "id": "uFDn1mPXsPLx",
        "outputId": "79248a9d-2502-47eb-97fe-7592586e023c"
      },
      "outputs": [],
      "source": [
        "data_fake_manual_testing.columns"
      ]
    },
    {
      "cell_type": "code",
      "execution_count": null,
      "metadata": {
        "colab": {
          "base_uri": "https://localhost:8080/"
        },
        "id": "_w3MFIT5rzRy",
        "outputId": "b0511b9b-f454-48d2-c98f-3d4fc37e5083"
      },
      "outputs": [],
      "source": [
        "data_fake_manual_testing['class']=0\n",
        "data_True_manual_testing['class']=1"
      ]
    },
    {
      "cell_type": "code",
      "execution_count": null,
      "metadata": {
        "colab": {
          "base_uri": "https://localhost:8080/",
          "height": 327
        },
        "id": "sESdAVVKskya",
        "outputId": "7c9cf9e8-3cef-4113-b78e-4ee2dfb7a7dd"
      },
      "outputs": [],
      "source": [
        "data_merge=pd.concat([data_fake,data_True],axis=0)\n",
        "data_merge.head()"
      ]
    },
    {
      "cell_type": "code",
      "execution_count": null,
      "metadata": {
        "colab": {
          "base_uri": "https://localhost:8080/"
        },
        "id": "CCK30Qw8tM7h",
        "outputId": "c46637a0-6de5-4c50-e874-a0125bc6e62b"
      },
      "outputs": [],
      "source": [
        "data_merge.shape"
      ]
    },
    {
      "cell_type": "code",
      "execution_count": null,
      "metadata": {
        "colab": {
          "base_uri": "https://localhost:8080/"
        },
        "id": "WptMwMH7tSfF",
        "outputId": "c324939f-cb7e-4221-e6ee-fe7467a92bd2"
      },
      "outputs": [],
      "source": [
        "data_merge['title'].value_counts().max()"
      ]
    },
    {
      "cell_type": "code",
      "execution_count": null,
      "metadata": {
        "id": "gtUV_my9v_Qc"
      },
      "outputs": [],
      "source": [
        "data=data_merge.drop(columns=['title','subject','date'],axis=1)"
      ]
    },
    {
      "cell_type": "code",
      "execution_count": null,
      "metadata": {
        "colab": {
          "base_uri": "https://localhost:8080/",
          "height": 241
        },
        "id": "4XhboqpIw88x",
        "outputId": "2f955a4c-b4a2-47f9-c86e-2b6f40d2e21f"
      },
      "outputs": [],
      "source": [
        "data_merge.isna().sum()"
      ]
    },
    {
      "cell_type": "code",
      "execution_count": null,
      "metadata": {
        "id": "nWis4OyowVSi"
      },
      "outputs": [],
      "source": [
        "data=data.sample(frac=1)"
      ]
    },
    {
      "cell_type": "code",
      "execution_count": null,
      "metadata": {
        "colab": {
          "base_uri": "https://localhost:8080/"
        },
        "id": "eXAuQ-yeydGO",
        "outputId": "00740849-53e1-49a2-b12b-b13c79e0a9d6"
      },
      "outputs": [],
      "source": [
        "data.columns"
      ]
    },
    {
      "cell_type": "code",
      "execution_count": null,
      "metadata": {
        "colab": {
          "base_uri": "https://localhost:8080/",
          "height": 206
        },
        "id": "ZZqJGkQHyHNr",
        "outputId": "1e1d7be8-44b3-4636-9c4b-edc39782b739"
      },
      "outputs": [],
      "source": [
        "data.head()"
      ]
    },
    {
      "cell_type": "code",
      "execution_count": null,
      "metadata": {
        "colab": {
          "base_uri": "https://localhost:8080/",
          "height": 206
        },
        "id": "2VgdRsKhyhmE",
        "outputId": "659ed00f-582d-48ac-cf01-00a895c5d664"
      },
      "outputs": [],
      "source": [
        "data.reset_index(inplace=True)\n",
        "data.head()"
      ]
    },
    {
      "cell_type": "code",
      "execution_count": null,
      "metadata": {
        "id": "N1iv8a1Mz7ye"
      },
      "outputs": [],
      "source": [
        "data.drop(columns=['index'],axis=1,inplace=True)"
      ]
    },
    {
      "cell_type": "code",
      "execution_count": null,
      "metadata": {
        "colab": {
          "base_uri": "https://localhost:8080/",
          "height": 206
        },
        "id": "acuPdko40E03",
        "outputId": "7683485a-31fc-4416-8663-c054328c0bb9"
      },
      "outputs": [],
      "source": [
        "data.head()"
      ]
    },
    {
      "cell_type": "code",
      "execution_count": null,
      "metadata": {
        "colab": {
          "base_uri": "https://localhost:8080/",
          "height": 1000
        },
        "id": "ZePt7nzO3n-P",
        "outputId": "0021888e-3d97-4d14-ac48-e2761bca7677"
      },
      "outputs": [],
      "source": [
        "data['text'].value_counts()"
      ]
    },
    {
      "cell_type": "code",
      "execution_count": null,
      "metadata": {
        "id": "xOUr37Ct4e8R"
      },
      "outputs": [],
      "source": [
        "def wordopt(text):\n",
        "  text=text.lower()\n",
        "  text=re.sub('\\[.*?\\]','',text)\n",
        "  text=re.sub('\\\\W',' ',text)\n",
        "  text=re.sub('https?://S+|www\\.\\S+','',text)\n",
        "  text=re.sub('<.*?>+','',text)\n",
        "  text=re.sub('[%s]' %re.escape(string.punctuation),'',text)\n",
        "  text=re.sub('\\n','',text)\n",
        "  text=re.sub('\\w*\\d\\w*','',text)\n",
        "  return text"
      ]
    },
    {
      "cell_type": "code",
      "execution_count": null,
      "metadata": {
        "id": "4DyUtSTZW4b4"
      },
      "outputs": [],
      "source": [
        "data['text']=data['text'].apply(wordopt)"
      ]
    },
    {
      "cell_type": "code",
      "execution_count": null,
      "metadata": {
        "colab": {
          "base_uri": "https://localhost:8080/",
          "height": 458
        },
        "id": "NOuh87FAX6hV",
        "outputId": "f7334983-f64b-4bc8-9ea0-3285b7796c2b"
      },
      "outputs": [],
      "source": [
        "data['text']"
      ]
    },
    {
      "cell_type": "code",
      "execution_count": null,
      "metadata": {
        "id": "hIyRT0-HX-Mz"
      },
      "outputs": [],
      "source": [
        "x=data['text']\n",
        "y=data['class']"
      ]
    },
    {
      "cell_type": "code",
      "execution_count": null,
      "metadata": {
        "colab": {
          "base_uri": "https://localhost:8080/",
          "height": 458
        },
        "id": "ujLg68AKbmlw",
        "outputId": "18fa6fa9-6229-4a2f-8dc3-79e2c53cfeb8"
      },
      "outputs": [],
      "source": [
        "y"
      ]
    },
    {
      "cell_type": "code",
      "execution_count": null,
      "metadata": {
        "id": "vMd0AE2_bonA"
      },
      "outputs": [],
      "source": [
        "x_train,x_test,y_train,y_test=train_test_split(x,y,test_size=0.25)\n"
      ]
    },
    {
      "cell_type": "code",
      "execution_count": null,
      "metadata": {
        "id": "fZQC8Bnwb1l5"
      },
      "outputs": [],
      "source": [
        "from sklearn.feature_extraction.text import TfidfVectorizer"
      ]
    },
    {
      "cell_type": "code",
      "execution_count": null,
      "metadata": {
        "id": "8YkLyc6OcQMl"
      },
      "outputs": [],
      "source": [
        "vec=TfidfVectorizer()\n",
        "xv_train=vec.fit_transform(x_train)\n",
        "xv_test=vec.transform(x_test)"
      ]
    },
    {
      "cell_type": "code",
      "execution_count": null,
      "metadata": {
        "id": "LtUTgnfIc5Vy"
      },
      "outputs": [],
      "source": [
        "from sklearn.linear_model import LogisticRegression\n",
        "lr=LogisticRegression()"
      ]
    },
    {
      "cell_type": "code",
      "execution_count": null,
      "metadata": {
        "colab": {
          "base_uri": "https://localhost:8080/",
          "height": 80
        },
        "id": "Lr9U7xyMnsJW",
        "outputId": "605fcfc0-7775-46ef-b7bc-cad1cad17487"
      },
      "outputs": [],
      "source": [
        "lr.fit(xv_train,y_train)"
      ]
    },
    {
      "cell_type": "code",
      "execution_count": null,
      "metadata": {
        "id": "1rnDXliTpeSz"
      },
      "outputs": [],
      "source": [
        "pred_lr=lr.predict(xv_test)"
      ]
    },
    {
      "cell_type": "code",
      "execution_count": null,
      "metadata": {
        "colab": {
          "base_uri": "https://localhost:8080/"
        },
        "id": "GWcFiT3EsOU8",
        "outputId": "e36be33c-28bd-403a-d375-50a3005b5039"
      },
      "outputs": [],
      "source": [
        "lr.score(xv_test,y_test)"
      ]
    },
    {
      "cell_type": "code",
      "execution_count": null,
      "metadata": {
        "colab": {
          "base_uri": "https://localhost:8080/"
        },
        "id": "LV6948fxsiLW",
        "outputId": "a6d31644-3e0e-4d2d-f726-f59ab2bf1c86"
      },
      "outputs": [],
      "source": [
        "print(classification_report(y_test,pred_lr))"
      ]
    },
    {
      "cell_type": "code",
      "execution_count": null,
      "metadata": {
        "colab": {
          "base_uri": "https://localhost:8080/",
          "height": 80
        },
        "id": "0rN4xYlEvidj",
        "outputId": "1de98336-be73-4e10-f683-a01ab00786ad"
      },
      "outputs": [],
      "source": [
        "from sklearn.tree import DecisionTreeClassifier\n",
        "dt=DecisionTreeClassifier()\n",
        "dt.fit(xv_train,y_train)"
      ]
    },
    {
      "cell_type": "code",
      "execution_count": null,
      "metadata": {
        "id": "r5NXRXCMwXht"
      },
      "outputs": [],
      "source": [
        "pred_dt=dt.predict(xv_test)"
      ]
    },
    {
      "cell_type": "code",
      "execution_count": null,
      "metadata": {
        "colab": {
          "base_uri": "https://localhost:8080/"
        },
        "id": "Mt57x5Siwg8o",
        "outputId": "7d84327b-625f-4087-8cc0-a621e0e8c8cf"
      },
      "outputs": [],
      "source": [
        "dt.score(xv_test,y_test)"
      ]
    },
    {
      "cell_type": "code",
      "execution_count": null,
      "metadata": {
        "colab": {
          "base_uri": "https://localhost:8080/"
        },
        "id": "R0jepbU1wq-0",
        "outputId": "e7d4228e-c7b5-4af3-b2c5-5003e1f63707"
      },
      "outputs": [],
      "source": [
        "print(classification_report(y_test,pred_dt))"
      ]
    },
    {
      "cell_type": "code",
      "execution_count": null,
      "metadata": {
        "id": "SYVdE37C0H-4"
      },
      "outputs": [],
      "source": [
        "from sklearn.ensemble import RandomForestClassifier\n",
        "rf=RandomForestClassifier()"
      ]
    },
    {
      "cell_type": "code",
      "execution_count": null,
      "metadata": {
        "colab": {
          "base_uri": "https://localhost:8080/",
          "height": 80
        },
        "id": "N5Orv1Jr0SDl",
        "outputId": "e8a12870-6948-4824-cfc6-290a33fdd626"
      },
      "outputs": [],
      "source": [
        "rf.fit(xv_train,y_train)"
      ]
    },
    {
      "cell_type": "code",
      "execution_count": null,
      "metadata": {
        "colab": {
          "base_uri": "https://localhost:8080/"
        },
        "id": "FOARhVU80rgV",
        "outputId": "b54bf6bc-7b35-4e42-c9c2-87953b875569"
      },
      "outputs": [],
      "source": [
        "pred_rf=rf.predict(xv_test)\n",
        "rf.score(xv_test,y_test)"
      ]
    },
    {
      "cell_type": "code",
      "execution_count": null,
      "metadata": {
        "colab": {
          "base_uri": "https://localhost:8080/"
        },
        "id": "dFtI3vNR085p",
        "outputId": "13a3eb9f-4e4e-4183-a846-0d15356270b3"
      },
      "outputs": [],
      "source": [
        "print(classification_report(y_test,pred_rf))"
      ]
    },
    {
      "cell_type": "code",
      "execution_count": null,
      "metadata": {
        "id": "0IqbK6t12W2L"
      },
      "outputs": [],
      "source": [
        "def output_label(n):\n",
        "  if n==0:\n",
        "    return \"Fake News\"\n",
        "  elif n==1:\n",
        "    return \"Not a Fake News\"\n",
        "\n",
        "def manual_testing(news):\n",
        "  testing_news={\"text\":[news]}\n",
        "  new_def_test=pd.DataFrame(testing_news)\n",
        "  new_def_test['text']=new_def_test['text'].apply(wordopt)\n",
        "  new_x_test=new_def_test['text']\n",
        "  new_xv_test=vec.transform(new_x_test)\n",
        "  pred_lr=lr.predict(new_xv_test)\n",
        "  pred_dt=dt.predict(new_xv_test)\n",
        "  pred_rf=rf.predict(new_xv_test)\n",
        "\n",
        "  return print(f\"{output_label(pred_lr)} : {output_label(pred_dt)} : {output_label(pred_rf)}\")"
      ]
    },
    {
      "cell_type": "code",
      "execution_count": null,
      "metadata": {
        "colab": {
          "base_uri": "https://localhost:8080/"
        },
        "id": "G4pUL7Ek2rkq",
        "outputId": "978f3c1c-aaf4-4680-e7e5-08ae01ca10ad"
      },
      "outputs": [],
      "source": [
        "news=str(input())\n",
        "manual_testing(news)"
      ]
    },
    {
      "cell_type": "code",
      "execution_count": null,
      "metadata": {},
      "outputs": [],
      "source": [
        "joblib.dump(vec,\"vectorizer.jb\")\n",
        "joblib.dump(lr,\"logistic.jb\")\n",
        "joblib.dump(dt,\"decision_tree.jb\")\n",
        "joblib.dump(rf,\"random_forest.jb\")"
      ]
    },
    {
      "cell_type": "code",
      "execution_count": null,
      "metadata": {},
      "outputs": [],
      "source": []
    }
  ],
  "metadata": {
    "colab": {
      "provenance": []
    },
    "kernelspec": {
      "display_name": "base",
      "language": "python",
      "name": "python3"
    },
    "language_info": {
      "codemirror_mode": {
        "name": "ipython",
        "version": 3
      },
      "file_extension": ".py",
      "mimetype": "text/x-python",
      "name": "python",
      "nbconvert_exporter": "python",
      "pygments_lexer": "ipython3",
      "version": "3.12.7"
    }
  },
  "nbformat": 4,
  "nbformat_minor": 0
}
